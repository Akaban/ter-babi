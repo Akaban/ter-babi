{
 "cells": [
  {
   "cell_type": "markdown",
   "metadata": {},
   "source": [
    "\n",
    "# Projet: Facebook BaBi tasks\n",
    "Notebook de la semaine du 08/03\n",
    "Par Thierry Loesch et Bryce Tichit\n",
    "\n",
    "Dans ce notebook nous allons commencer par tester le modèle sur différentes tâches et ajuste les paramètres (batch_size,epochs,...) afin de voir comment les résultats varient et ce que nous pouvons faire pour améliorer notre modèle.\n",
    "\n",
    "\n",
    "# Rappel dernier notebook\n",
    "\n",
    "Dans le dernier notebook nous avions fait de plus amples tests avec différents modèles, un avec deux réseaux LSTM en symétrique et un autre avec deux réseaux Bi-LSTM en symétrique ainsi qu'un autre modèle plus spécifique. Après vérification il s'avère que les modèls LSTM et Bi-LSTM n'arrivaient pas à généraliser et nous avions des courbes d'apprentissage montrant un sévère sur-apprentissage.\n"
   ]
  },
  {
   "cell_type": "code",
   "execution_count": 1,
   "metadata": {
    "collapsed": false
   },
   "outputs": [],
   "source": [
    "import re\n",
    "\n",
    "def tokenize(sent):\n",
    "    return [x.strip() for x in re.split('(\\W+)?', sent) if x.strip()]\n",
    "\n",
    "\n",
    "def parserBabi(data):\n",
    "    ret=list()\n",
    "    story=list()\n",
    "    \n",
    "    for phrase in data:\n",
    "        phrase = phrase.decode('utf-8').strip()\n",
    "        id_phrase,phrase = int(phrase[0]),phrase[1:]\n",
    "        \n",
    "        if id_phrase == 1: #Nouvelle story\n",
    "            story=list()\n",
    "            \n",
    "        if '\\t' in phrase: #Si tabulation alors il s'agit de la question ainsi que de la réponse\n",
    "            q, a, justif = phrase.split('\\t')\n",
    "            q = tokenize(q)\n",
    "            \n",
    "            data_story = [x for x in story if x] \n",
    "                                             \n",
    "            ret.append((data_story,q,a)) #Nos données d'apprentissages\n",
    "            story.append('')\n",
    "        \n",
    "        else: \n",
    "            #Alors la phrase est tout simplement un des élements de raisonnement et non une question\n",
    "            story.append(tokenize(phrase))\n",
    "            \n",
    "    return ret\n",
    "\n",
    "def readAndParse(f):\n",
    "    data = parserBabi(f.readlines())\n",
    "    return [([substory for substories in story for substory in substories], q , a) for story,q,a in data]\n"
   ]
  },
  {
   "cell_type": "markdown",
   "metadata": {},
   "source": [
    "# Récupération des données\n",
    "\n",
    "On récupère les fichiers sur internet directement avec la fonction get_file, cette fonction a l'avantage de ne pas tout retelecharger si les données sont déjà sur la machines (dans ~/.keras/datasets). Puis on applique les fonctions du parser afin de récupérer les données dans la structure que l'on veut."
   ]
  },
  {
   "cell_type": "code",
   "execution_count": 67,
   "metadata": {
    "collapsed": false
   },
   "outputs": [
    {
     "name": "stdout",
     "output_type": "stream",
     "text": [
      "Nombre d'exemples total: 11000\n",
      "Training: 1000 samples , Test: 1000 samples , Validation: 1000 samples\n"
     ]
    }
   ],
   "source": [
    "from keras.utils.data_utils import get_file\n",
    "import tarfile\n",
    "from random import shuffle\n",
    "import fnmatch\n",
    "import os\n",
    "\n",
    "for file in os.listdir('.'):\n",
    "    if fnmatch.fnmatch(file, '*.txt'):\n",
    "        print file\n",
    "\n",
    "try:\n",
    "    path = get_file('babi-tasks-v1-2.tar.gz', origin='http://www.thespermwhale.com/jaseweston/babi/tasks_1-20_v1-2.tar.gz')\n",
    "except:\n",
    "   print(\"erreur pendant le telechargement\")\n",
    "\n",
    "def trunc(f):\n",
    "    s = '{}'.format(f)\n",
    "    i, p, d = s.partition('.')\n",
    "    return int('.'.join([i, d][:1]))\n",
    "\n",
    "def splitData(data,split_take):\n",
    "    \n",
    "    size=len(data)\n",
    "    \n",
    "    train_prop,test_prop,val_prop = trunc(split_take[0] * size),trunc(split_take[1] * size), trunc(split_take[2] * size)\n",
    "    \n",
    "    return data[0:train_prop],data[train_prop:train_prop+test_prop],data[train_prop+test_prop:train_prop+test_prop+val_prop]\n",
    "   \n",
    "equalProp = lambda size_data,num : tuple([num/float(size_data)] * 3)\n",
    "\n",
    "def getChallenge(tar,num,_10k=False):\n",
    "    \n",
    "    if(_10k):\n",
    "        srcdir = 'tasks_1-20_v1-2/en-10k/'\n",
    "    else:\n",
    "        srcdir = 'tasks_1-20_v1-2/en/'\n",
    "        \n",
    "    for member in tar.getnames():\n",
    "        \n",
    "        if fnmatch.fnmatch(member, srcdir+'*') and fnmatch.fnmatch(member,'*qa'+str(num)+'*'):\n",
    "            \n",
    "            #return member\n",
    "            return '_'.join(member.split('_')[0:-1]) + '_{}.txt'\n",
    "    \n",
    "\n",
    "tar = tarfile.open(path)\n",
    "\n",
    "#challenge = 'tasks_1-20_v1-2/en-10k/qa14_time-reasoning_{}.txt'\n",
    "#challenge = 'tasks_1-20_v1-2/en/qa19_path-finding_{}.txt'\n",
    "\n",
    "\n",
    "train = readAndParse(tar.extractfile(challenge.format('train')))\n",
    "test = readAndParse(tar.extractfile(challenge.format('test')))\n",
    "data = train+test\n",
    "\n",
    "print \"Nombre d'exemples total: {}\".format(len(data))\n",
    "\n",
    "#proportions=(0.1,0.1,0.1) \n",
    "proportions=equalProp(len(data),1000) #on en veut 1000 pour chaque ensemble\n",
    "train,test,validation=splitData(data,proportions)\n",
    "\n",
    "vocab = sorted(reduce(lambda x, y: x | y, (set(story + q + [answer]) for story, q, answer in train + test + validation)))\n",
    "vocab_size = len(vocab) + 1\n",
    "word_idx = dict(((w,i+1) for i,w in enumerate(vocab)))\n",
    "\n",
    "story_max = max((len(x) for x,_,_ in train+test+validation))\n",
    "question_max = max((len(x) for _,x,_ in train+test+validation))\n",
    "\n",
    "print \"Training: {} samples , Test: {} samples , Validation: {} samples\".format(len(train),len(test),len(validation))\n"
   ]
  },
  {
   "cell_type": "code",
   "execution_count": 68,
   "metadata": {
    "collapsed": false
   },
   "outputs": [
    {
     "data": {
      "text/plain": [
       "'tasks_1-20_v1-2/en/qa15_basic-deduction_{}.txt'"
      ]
     },
     "execution_count": 68,
     "metadata": {},
     "output_type": "execute_result"
    }
   ],
   "source": [
    "getChallenge(tar,15)"
   ]
  },
  {
   "cell_type": "markdown",
   "metadata": {},
   "source": [
    "# Vectorisation\n",
    "\n",
    "Comme vu en cours on doit vectoriser nos données (les assimiler a des nombres et les mettre dans des matrices) afin de pouvoir entrainer notre réseau neuronal.\n",
    "\n",
    "La fonction pad_sequences plus bas permet de transformer notre liste de liste en matrice numpy en ajoutant des 0. pour complèter quand il n'y a pas de données."
   ]
  },
  {
   "cell_type": "code",
   "execution_count": 3,
   "metadata": {
    "collapsed": false
   },
   "outputs": [],
   "source": [
    "#Mettons tout ça dans des matrices\n",
    "from keras.preprocessing.sequence import pad_sequences\n",
    "import numpy as np\n",
    "\n",
    "def vectorize(data,wordidx,storymaxlen,questionmaxlen):\n",
    "    X,Xq,Y = list(),list(),list()\n",
    "    \n",
    "    lookup = lambda m : wordidx[m]\n",
    "    \n",
    "    for story, question, reponse in data:\n",
    "        X.append(map(lookup,story))\n",
    "        Xq.append(map(lookup,question))\n",
    "        Yline = np.zeros(vocab_size)\n",
    "        Yline[wordidx[reponse]] = 1\n",
    "        Y.append(Yline)\n",
    "        \n",
    "    return pad_sequences(X, maxlen=story_max), pad_sequences(Xq, maxlen=question_max), np.array(Y)\n",
    "        \n",
    "    \n",
    "X,Xq,Y = vectorize(train,word_idx,story_max,question_max)\n",
    "X_test,Xq_test,Y_test = vectorize(test,word_idx,story_max,question_max)\n",
    "X_val,Xq_val,Y_val = vectorize(validation,word_idx,story_max,question_max)"
   ]
  },
  {
   "cell_type": "code",
   "execution_count": 4,
   "metadata": {
    "collapsed": false
   },
   "outputs": [
    {
     "name": "stdout",
     "output_type": "stream",
     "text": [
      "[[ 0  0  0  0  0  0  0  0  0  0  0  0  0  0  0  0  0  0  0 12 37 20 34 32\n",
      "  23 38  1 14 37 34 32 31 33 27  1 13 37 34 32 30 38  1 18 14 37 34 32 29\n",
      "   1]\n",
      " [ 0  0  0  0 12 37 20 34 32 23 38  1 14 37 34 32 31 33 27  1 13 37 34 32\n",
      "  30 38  1 18 14 37 34 32 29  1 16 19 14 35 34 32 23  1 18 15 35 34 32 30\n",
      "   1]\n",
      " [ 0  0  0  0  0  0  0  0  0  0  0  0  0  0  0  0  0  0  0  0  0  0  0  0\n",
      "   0  0  0  0  0  0  0  0  0  0  0  0  0  0  0  0  0  0  0  0  0  0  0  0\n",
      "   0]\n",
      " [ 0  0  0  0  0  0  0  0  0  0  0  0  0  0  0  0  0  0  0  0  0  0  0  0\n",
      "   0  0  0  0  0  0  0  0  0  0  0  0  0  0  0  0  0  0  0  0  0  0  0  0\n",
      "   0]\n",
      " [ 0  0  0  0  0  0  0  0  0  0  0  0  0  0  0  0  0  0  0  0  0  0  0  0\n",
      "   0  0  0  0  0  0  0  0  0  0  0  0  0  0  0  0  0  0  0  0  0  0  0  0\n",
      "   0]\n",
      " [ 0  0  0  0  0  0  0  0  0  0  0  0  0  0  0  0  0  0  0 16 27 13 37 34\n",
      "  32 26  1 13 25 34 32 21 38  1 15 35 34 32 21 33 27  1 18 15 37 34 32 23\n",
      "   1]\n",
      " [ 0  0  0 16 27 13 37 34 32 26  1 13 25 34 32 21 38  1 15 35 34 32 21 33\n",
      "  27  1 18 15 37 34 32 23  1 16 27 14 28 34 32 29  1 18 14 37 20 34 32 23\n",
      "   1]\n",
      " [ 0  0  0  0  0  0  0  0  0  0  0  0  0  0  0  0  0  0  0  0  0  0  0  0\n",
      "   0  0  0  0  0  0  0  0  0  0  0  0  0  0  0  0  0  0  0  0  0  0  0  0\n",
      "   0]\n",
      " [ 0  0  0  0  0  0  0  0  0  0  0  0  0  0  0  0  0  0  0  0  0  0  0  0\n",
      "   0  0  0  0  0  0  0  0  0  0  0  0  0  0  0  0  0  0  0  0  0  0  0  0\n",
      "   0]\n",
      " [ 0  0  0  0  0  0  0  0  0  0  0  0  0  0  0  0  0  0  0  0  0  0  0  0\n",
      "   0  0  0  0  0  0  0  0  0  0  0  0  0  0  0  0  0  0  0  0  0  0  0  0\n",
      "   0]]\n",
      "[[ 0 17 36 14 22 32 31 11]\n",
      " [ 0 17 36 14 22 32 31 11]\n",
      " [ 3 17 36 14 22 32 31 11]\n",
      " [ 6 17 36 12 22 32 31 11]\n",
      " [ 9 17 36 12 22 32 31 11]\n",
      " [ 0 17 36 15 22 32 21 11]\n",
      " [ 0 17 36 14 22 32 29 11]\n",
      " [ 3 17 36 15 22 32 21 11]\n",
      " [ 6 17 36 13 22 32 26 11]\n",
      " [ 9 17 36 14 22 32 21 11]]\n",
      "[[ 0.  0.  0.  0.  0.  0.  0.  0.  0.  0.  0.  0.  0.  0.  0.  0.  0.  0.\n",
      "   0.  0.  0.  0.  0.  0.  0.  0.  0.  0.  0.  1.  0.  0.  0.  0.  0.  0.\n",
      "   0.  0.  0.]\n",
      " [ 0.  0.  0.  0.  0.  0.  0.  0.  0.  0.  0.  0.  0.  0.  0.  0.  0.  0.\n",
      "   0.  0.  0.  0.  0.  0.  0.  0.  0.  0.  0.  1.  0.  0.  0.  0.  0.  0.\n",
      "   0.  0.  0.]\n",
      " [ 0.  0.  0.  0.  0.  0.  0.  0.  0.  0.  0.  0.  0.  0.  0.  0.  0.  0.\n",
      "   0.  0.  0.  0.  0.  1.  0.  0.  0.  0.  0.  0.  0.  0.  0.  0.  0.  0.\n",
      "   0.  0.  0.]\n",
      " [ 0.  0.  0.  0.  0.  0.  0.  0.  0.  0.  0.  0.  0.  0.  0.  0.  0.  0.\n",
      "   0.  0.  0.  0.  0.  1.  0.  0.  0.  0.  0.  0.  0.  0.  0.  0.  0.  0.\n",
      "   0.  0.  0.]\n",
      " [ 0.  0.  0.  0.  0.  0.  0.  0.  0.  0.  0.  0.  0.  0.  0.  0.  0.  0.\n",
      "   0.  0.  0.  0.  0.  0.  0.  0.  0.  0.  0.  0.  1.  0.  0.  0.  0.  0.\n",
      "   0.  0.  0.]\n",
      " [ 0.  0.  0.  0.  0.  0.  0.  0.  0.  0.  0.  0.  0.  0.  0.  0.  0.  0.\n",
      "   0.  0.  0.  0.  0.  1.  0.  0.  0.  0.  0.  0.  0.  0.  0.  0.  0.  0.\n",
      "   0.  0.  0.]\n",
      " [ 0.  0.  0.  0.  0.  0.  0.  0.  0.  0.  0.  0.  0.  0.  0.  0.  0.  0.\n",
      "   0.  0.  0.  0.  0.  1.  0.  0.  0.  0.  0.  0.  0.  0.  0.  0.  0.  0.\n",
      "   0.  0.  0.]\n",
      " [ 0.  0.  0.  0.  0.  0.  0.  0.  0.  0.  0.  0.  0.  0.  0.  0.  0.  0.\n",
      "   0.  0.  0.  0.  0.  1.  0.  0.  0.  0.  0.  0.  0.  0.  0.  0.  0.  0.\n",
      "   0.  0.  0.]\n",
      " [ 0.  0.  0.  0.  0.  0.  0.  0.  0.  0.  0.  0.  0.  0.  0.  0.  0.  0.\n",
      "   0.  0.  0.  0.  0.  1.  0.  0.  0.  0.  0.  0.  0.  0.  0.  0.  0.  0.\n",
      "   0.  0.  0.]\n",
      " [ 0.  0.  0.  0.  0.  0.  0.  0.  0.  0.  0.  0.  0.  0.  0.  0.  0.  0.\n",
      "   0.  0.  0.  0.  0.  0.  0.  0.  0.  0.  0.  1.  0.  0.  0.  0.  0.  0.\n",
      "   0.  0.  0.]]\n"
     ]
    }
   ],
   "source": [
    "print X[0:10]\n",
    "print Xq[0:10]\n",
    "print Y[0:10]"
   ]
  },
  {
   "cell_type": "markdown",
   "metadata": {},
   "source": [
    "# Modèle\n",
    "\n",
    "Ensuite nous crééons notre modèle keras, nous avions choisi donc de faire un modèle pour les story et pour les questions afin de pouvoir raisonner sur chacun d'eux différement puis de les combiner en un modèle, ainsi nous avons un seul modèle mais qui traite différement les story des questions. On a un LSTM dans le modèle des questions car il faut raisonner d'abord sur les questions seules puis les histoires avec les questions (raisonner sur les histoires seules ne veut pas dire grand chose du point de vue d'un raisonnement)\n",
    "\n",
    "Schema modèle:\n",
    "\n",
    "                    question_model                              story_model\n",
    "                         |                                           |\n",
    "                      Embedding                                  Embedding\n",
    "                          |                                          |\n",
    "                                                                    /\n",
    "                        LSTM                                       /\n",
    "                          |                                       /\n",
    "                        RepeatVector                            /\n",
    "                                    \\                          /\n",
    "                                      \\_______________________/\n",
    "                                                   |\n",
    "                                                   |\n",
    "                                              Merge(mode=sum)\n",
    "                                                   |\n",
    "                                                 LSTM\n",
    "                                                   |\n",
    "                                                 SoftMax\n",
    "\n"
   ]
  },
  {
   "cell_type": "code",
   "execution_count": 5,
   "metadata": {
    "collapsed": true
   },
   "outputs": [],
   "source": [
    "import matplotlib.pyplot as plt\n",
    "%matplotlib inline\n",
    "\n",
    "def plotLearningCurves_acc(history_model):\n",
    "    plt.plot(history_model.history['acc'])\n",
    "    plt.plot(history_model.history['val_acc'])\n",
    "    plt.title('Precision du modele')\n",
    "    plt.ylabel('Precision')\n",
    "    plt.xlabel('epoch')\n",
    "    plt.legend(['train', 'val'], loc='upper left')\n",
    "    plt.show()\n",
    "    \n",
    "def plotLearningCurves_loss(history_model):\n",
    "    plt.plot(history_model.history['loss'])\n",
    "    plt.plot(history_model.history['val_loss'])\n",
    "    plt.title('Perte sur le modele')\n",
    "    plt.ylabel('Perte')\n",
    "    plt.xlabel('epoch')\n",
    "    plt.legend(['train', 'val'], loc='upper left')\n",
    "    plt.show()"
   ]
  },
  {
   "cell_type": "code",
   "execution_count": 11,
   "metadata": {
    "collapsed": false,
    "scrolled": true
   },
   "outputs": [
    {
     "name": "stdout",
     "output_type": "stream",
     "text": [
      "Train on 1000 samples, validate on 1000 samples\n",
      "Epoch 1/25\n",
      "1000/1000 [==============================] - 7s - loss: 2.3552 - acc: 0.1400 - val_loss: 1.7963 - val_acc: 0.1920\n",
      "Epoch 2/25\n",
      "1000/1000 [==============================] - 7s - loss: 1.7976 - acc: 0.1880 - val_loss: 1.8494 - val_acc: 0.1520\n",
      "Epoch 3/25\n",
      "1000/1000 [==============================] - 7s - loss: 1.8182 - acc: 0.1730 - val_loss: 1.8226 - val_acc: 0.1520\n",
      "Epoch 4/25\n",
      "1000/1000 [==============================] - 7s - loss: 1.8239 - acc: 0.1680 - val_loss: 1.8129 - val_acc: 0.1740\n",
      "Epoch 5/25\n",
      "1000/1000 [==============================] - 7s - loss: 1.8160 - acc: 0.1760 - val_loss: 1.8004 - val_acc: 0.1710\n",
      "Epoch 6/25\n",
      "1000/1000 [==============================] - 7s - loss: 1.8153 - acc: 0.1630 - val_loss: 1.7987 - val_acc: 0.1680\n",
      "Epoch 7/25\n",
      "1000/1000 [==============================] - 7s - loss: 1.8064 - acc: 0.1540 - val_loss: 1.7979 - val_acc: 0.1710\n",
      "Epoch 8/25\n",
      "1000/1000 [==============================] - 7s - loss: 1.8124 - acc: 0.1540 - val_loss: 1.8073 - val_acc: 0.1740\n",
      "Epoch 9/25\n",
      "1000/1000 [==============================] - 7s - loss: 1.8186 - acc: 0.1540 - val_loss: 1.8164 - val_acc: 0.1740\n",
      "Epoch 10/25\n",
      "1000/1000 [==============================] - 7s - loss: 1.8090 - acc: 0.1720 - val_loss: 1.7969 - val_acc: 0.1900\n",
      "Epoch 11/25\n",
      "1000/1000 [==============================] - 8s - loss: 1.8161 - acc: 0.1670 - val_loss: 1.8036 - val_acc: 0.1900\n",
      "Epoch 12/25\n",
      "1000/1000 [==============================] - 7s - loss: 1.8013 - acc: 0.1750 - val_loss: 1.8084 - val_acc: 0.1810\n",
      "Epoch 13/25\n",
      "1000/1000 [==============================] - 7s - loss: 1.7943 - acc: 0.1810 - val_loss: 1.7984 - val_acc: 0.1870\n",
      "Epoch 14/25\n",
      "1000/1000 [==============================] - 7s - loss: 1.7649 - acc: 0.2300 - val_loss: 1.8191 - val_acc: 0.1900\n",
      "Epoch 15/25\n",
      "1000/1000 [==============================] - 7s - loss: 1.7554 - acc: 0.2140 - val_loss: 1.8210 - val_acc: 0.2050\n",
      "Epoch 16/25\n",
      "1000/1000 [==============================] - 7s - loss: 1.7725 - acc: 0.2190 - val_loss: 1.8420 - val_acc: 0.2030\n",
      "Epoch 17/25\n",
      "1000/1000 [==============================] - 7s - loss: 1.7659 - acc: 0.2280 - val_loss: 1.8240 - val_acc: 0.1630\n",
      "Epoch 18/25\n",
      "1000/1000 [==============================] - 7s - loss: 1.7618 - acc: 0.2330 - val_loss: 1.8427 - val_acc: 0.1800\n",
      "Epoch 19/25\n",
      "1000/1000 [==============================] - 7s - loss: 1.7535 - acc: 0.2260 - val_loss: 1.8219 - val_acc: 0.1940\n",
      "Epoch 20/25\n",
      "1000/1000 [==============================] - 7s - loss: 1.7530 - acc: 0.2400 - val_loss: 1.8450 - val_acc: 0.1940\n",
      "Epoch 21/25\n",
      "1000/1000 [==============================] - 7s - loss: 1.7617 - acc: 0.2170 - val_loss: 1.8090 - val_acc: 0.1940\n",
      "Epoch 22/25\n",
      "1000/1000 [==============================] - 7s - loss: 1.7459 - acc: 0.2410 - val_loss: 1.8155 - val_acc: 0.1800\n",
      "Epoch 23/25\n",
      "1000/1000 [==============================] - 7s - loss: 1.7566 - acc: 0.2330 - val_loss: 1.8119 - val_acc: 0.1940\n",
      "Epoch 24/25\n",
      "1000/1000 [==============================] - 7s - loss: 1.7504 - acc: 0.2370 - val_loss: 1.8349 - val_acc: 0.1710\n",
      "Epoch 25/25\n",
      "1000/1000 [==============================] - 7s - loss: 1.7588 - acc: 0.2290 - val_loss: 1.8131 - val_acc: 0.1800\n"
     ]
    }
   ],
   "source": [
    "#Model\n",
    "\n",
    "from keras.layers.embeddings import Embedding\n",
    "from keras.layers import Dense, Merge,RepeatVector,Activation\n",
    "from keras.layers.recurrent import LSTM\n",
    "from keras.models import Sequential\n",
    "from keras.optimizers import RMSprop,Adam\n",
    "\n",
    "\n",
    "embed_size = 50\n",
    "batch_size=64\n",
    "epochs=25\n",
    "\n",
    "story_model = Sequential()\n",
    "story_model.add(Embedding(vocab_size,embed_size,input_length=story_max))\n",
    "\n",
    "question_model = Sequential()\n",
    "question_model.add(Embedding(vocab_size,embed_size,input_length=question_max))\n",
    "question_model.add(LSTM(embed_size))\n",
    "question_model.add(RepeatVector(story_max)) #permet d'ajuster la taille du modèle afin de préparer un merge\n",
    "\n",
    "\n",
    "model = Sequential()\n",
    "model.add(Merge([story_model, question_model], mode='concat'))\n",
    "model.add(LSTM(embed_size))\n",
    "model.add(Dense(vocab_size))\n",
    "model.add(Activation(\"softmax\"))\n",
    "\n",
    "model.compile(optimizer=Adam(lr=0.01),loss='categorical_crossentropy',metrics=['accuracy'])\n",
    "\n",
    "history = model.fit([X, Xq], Y, batch_size=batch_size, nb_epoch=epochs,validation_data=([X_val,Xq_val],Y_val))\n"
   ]
  },
  {
   "cell_type": "code",
   "execution_count": 12,
   "metadata": {
    "collapsed": false
   },
   "outputs": [
    {
     "name": "stdout",
     "output_type": "stream",
     "text": [
      "1000/1000 [==============================] - 1s     \n",
      "\n",
      "Perte = 1.777\n",
      "Précision = 22%\n"
     ]
    },
    {
     "data": {
      "image/png": "[encoded data removed]",
      "text/plain": [
       "<matplotlib.figure.Figure at 0x7f8e53497a50>"
      ]
     },
     "metadata": {},
     "output_type": "display_data"
    },
    {
     "data": {
      "image/png": "[encoded data removed]",
      "text/plain": [
       "<matplotlib.figure.Figure at 0x7f8e557bdbd0>"
      ]
     },
     "metadata": {},
     "output_type": "display_data"
    }
   ],
   "source": [
    "#Calcul de précision sur l'ensemble de test\n",
    "\n",
    "loss,acc = model.evaluate([X_test,Xq_test],Y_test, batch_size=batch_size)\n",
    "print \"\\nPerte = {:.3f}\".format(loss)\n",
    "print \"Précision = {:.0f}%\".format(acc*100)\n",
    "\n",
    "plotLearningCurves_acc(history)\n",
    "plotLearningCurves_loss(history)"
   ]
  }
 ],
 "metadata": {
  "kernelspec": {
   "display_name": "Python 2",
   "language": "python",
   "name": "python2"
  },
  "language_info": {
   "codemirror_mode": {
    "name": "ipython",
    "version": 2
   },
   "file_extension": ".py",
   "mimetype": "text/x-python",
   "name": "python",
   "nbconvert_exporter": "python",
   "pygments_lexer": "ipython2",
   "version": "2.7.12"
  }
 },
 "nbformat": 4,
 "nbformat_minor": 2
}
