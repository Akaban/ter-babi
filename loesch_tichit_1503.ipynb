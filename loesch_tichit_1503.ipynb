{
 "cells": [
  {
   "cell_type": "markdown",
   "metadata": {},
   "source": [
    "\n",
    "# Projet: Facebook BaBi tasks\n",
    "Notebook de la semaine du 08/03\n",
    "Par Thierry Loesch et Bryce Tichit\n",
    "\n",
    "Dans ce notebook nous allons commencer par tester le modèle sur différentes tâches et ajuste les paramètres (batch_size,epochs,...) afin de voir comment les résultats varient et ce que nous pouvons faire pour améliorer notre modèle.\n",
    "\n",
    "Modifier la taille de l'embedding de 50 à 100 -> aucun effet on observe même une regression\n",
    "\n",
    "# Rappel dernier notebook\n",
    "\n",
    "Dans le dernier notebook nous avions fait de plus amples tests avec différents modèles, un avec deux réseaux LSTM en symétrique et un autre avec deux réseaux Bi-LSTM en symétrique ainsi qu'un autre modèle plus spécifique. Après vérification il s'avère que les modèls LSTM et Bi-LSTM n'arrivaient pas à généraliser et nous avions des courbes d'apprentissage montrant un sévère sur-apprentissage.\n"
   ]
  },
  {
   "cell_type": "code",
   "execution_count": 65,
   "metadata": {
    "collapsed": false
   },
   "outputs": [],
   "source": [
    "import re\n",
    "\n",
    "def tokenize(sent):\n",
    "    return [x.strip() for x in re.split('(\\W+)?', sent) if x.strip()]\n",
    "\n",
    "\n",
    "def parserBabi(data,withoutNoise):\n",
    "    ret=list()\n",
    "    story=list() \n",
    "    \n",
    "    for phrase in data:\n",
    "        phrase = phrase.decode('utf-8').strip()\n",
    "        id_phrase,phrase = phrase.split(' ',1)\n",
    "        id_phrase= int(id_phrase)\n",
    "        \n",
    "        if id_phrase == 1: #Nouvelle story\n",
    "            story=list()\n",
    "            \n",
    "        if '\\t' in phrase: #Si tabulation alors il s'agit de la question ainsi que de la réponse\n",
    "            q, a, justif = phrase.split('\\t')\n",
    "            q = tokenize(q)\n",
    "            \n",
    "            if withoutNoise:\n",
    "                inds = map(int,justif.split())\n",
    "                data_story = [story[x-1] for x in inds]\n",
    "            else:\n",
    "                data_story = [x for x in story if x] \n",
    "                                             \n",
    "            ret.append((data_story,q,a)) #Nos données d'apprentissages\n",
    "            story.append('')\n",
    "        \n",
    "        else: \n",
    "            #Alors la phrase est tout simplement un des élements de raisonnement et non une question\n",
    "            story.append(tokenize(phrase))\n",
    "            \n",
    "    return ret\n",
    "\n",
    "def readAndParse(f,withoutNoise=False):\n",
    "    data = parserBabi(f.readlines(),withoutNoise)\n",
    "    return [([substory for substories in story for substory in substories], q , a) for story,q,a in data]\n"
   ]
  },
  {
   "cell_type": "code",
   "execution_count": 66,
   "metadata": {
    "collapsed": false
   },
   "outputs": [
    {
     "data": {
      "text/plain": [
       "['Bonjour', '?']"
      ]
     },
     "execution_count": 66,
     "metadata": {},
     "output_type": "execute_result"
    }
   ],
   "source": [
    "tokenize(\"Bonjour?\")"
   ]
  },
  {
   "cell_type": "markdown",
   "metadata": {},
   "source": [
    "# Récupération des données\n",
    "\n",
    "On récupère les fichiers sur internet directement avec la fonction get_file, cette fonction a l'avantage de ne pas tout retelecharger si les données sont déjà sur la machines (dans ~/.keras/datasets). Puis on applique les fonctions du parser afin de récupérer les données dans la structure que l'on veut."
   ]
  },
  {
   "cell_type": "code",
   "execution_count": 16,
   "metadata": {
    "collapsed": false
   },
   "outputs": [
    {
     "name": "stdout",
     "output_type": "stream",
     "text": [
      "doing train\n",
      "doing test\n",
      "Nombre d'exemples total: 11000\n",
      "Training: 1000 samples , Test: 1000 samples , Validation: 1000 samples\n"
     ]
    }
   ],
   "source": [
    "from keras.utils.data_utils import get_file\n",
    "import tarfile\n",
    "from random import shuffle\n",
    "import fnmatch\n",
    "import os\n",
    "\n",
    "try:\n",
    "    path = get_file('babi-tasks-v1-2.tar.gz', origin='http://www.thespermwhale.com/jaseweston/babi/tasks_1-20_v1-2.tar.gz')\n",
    "except:\n",
    "   print(\"erreur pendant le telechargement\")\n",
    "\n",
    "def trunc(f):\n",
    "    s = '{}'.format(f)\n",
    "    i, p, d = s.partition('.')\n",
    "    return int('.'.join([i, d][:1]))\n",
    "\n",
    "def splitData(data,split_take):\n",
    "    \n",
    "    size=len(data)\n",
    "    \n",
    "    train_prop,test_prop,val_prop = trunc(split_take[0] * size),trunc(split_take[1] * size), trunc(split_take[2] * size)\n",
    "    \n",
    "    return data[0:train_prop],data[train_prop:train_prop+test_prop],data[train_prop+test_prop:train_prop+test_prop+val_prop]\n",
    "   \n",
    "equalProp = lambda size_data,num : tuple([num/float(size_data)] * 3)\n",
    "\n",
    "def getChallenge(tar,num,_10k=False):\n",
    "    \n",
    "    if(_10k):\n",
    "        srcdir = 'tasks_1-20_v1-2/en-10k/'\n",
    "    else:\n",
    "        srcdir = 'tasks_1-20_v1-2/en/'\n",
    "        \n",
    "    for member in tar.getnames():\n",
    "        \n",
    "        if fnmatch.fnmatch(member, srcdir+'*') and fnmatch.fnmatch(member,'*qa'+str(num)+'_*'):\n",
    "            \n",
    "            #return member\n",
    "            return '_'.join(member.split('_')[0:-1]) + '_{}.txt'\n",
    "    \n",
    "\n",
    "tar = tarfile.open(path)\n",
    "\n",
    "#challenge = 'tasks_1-20_v1-2/en-10k/qa14_time-reasoning_{}.txt'\n",
    "#challenge = 'tasks_1-20_v1-2/en/qa19_path-finding_{}.txt'\n",
    "challenge = getChallenge(tar,10,_10k=True)\n",
    "withoutNoise=False\n",
    "\n",
    "print \"doing train\"\n",
    "train = readAndParse(tar.extractfile(challenge.format('train')),withoutNoise=withoutNoise)\n",
    "print \"doing test\"\n",
    "test = readAndParse(tar.extractfile(challenge.format('test')),withoutNoise=withoutNoise)\n",
    "data = train+test\n",
    "\n",
    "print \"Nombre d'exemples total: {}\".format(len(data))\n",
    "\n",
    "#proportions=(0.1,0.1,0.1) \n",
    "proportions=equalProp(len(data),1000) #on en veut 1000 pour chaque ensemble\n",
    "train,test,validation=splitData(data,proportions)\n",
    "\n",
    "vocab = sorted(reduce(lambda x, y: x | y, (set(story + q + [answer]) for story, q, answer in train + test + validation)))\n",
    "vocab_size = len(vocab) + 1\n",
    "word_idx = dict(((w,i+1) for i,w in enumerate(vocab)))\n",
    "\n",
    "story_max = max((len(x) for x,_,_ in train+test+validation))\n",
    "question_max = max((len(x) for _,x,_ in train+test+validation))\n",
    "\n",
    "print \"Training: {} samples , Test: {} samples , Validation: {} samples\".format(len(train),len(test),len(validation))\n"
   ]
  },
  {
   "cell_type": "markdown",
   "metadata": {},
   "source": [
    "# Vectorisation\n",
    "\n",
    "Comme vu en cours on doit vectoriser nos données (les assimiler a des nombres et les mettre dans des matrices) afin de pouvoir entrainer notre réseau neuronal.\n",
    "\n",
    "La fonction pad_sequences plus bas permet de transformer notre liste de liste en matrice numpy en ajoutant des 0. pour complèter quand il n'y a pas de données."
   ]
  },
  {
   "cell_type": "code",
   "execution_count": 17,
   "metadata": {
    "collapsed": false
   },
   "outputs": [],
   "source": [
    "#Mettons tout ça dans des matrices\n",
    "from keras.preprocessing.sequence import pad_sequences\n",
    "import numpy as np\n",
    "\n",
    "def vectorize(data,wordidx,storymaxlen,questionmaxlen):\n",
    "    X,Xq,Y = list(),list(),list()\n",
    "    \n",
    "    lookup = lambda m : wordidx[m]\n",
    "    \n",
    "    for story, question, reponse in data:\n",
    "        X.append(map(lookup,story))\n",
    "        Xq.append(map(lookup,question))\n",
    "        Yline = np.zeros(vocab_size)\n",
    "        Yline[wordidx[reponse]] = 1\n",
    "        Y.append(Yline)\n",
    "        \n",
    "    return pad_sequences(X, maxlen=story_max), pad_sequences(Xq, maxlen=question_max), np.array(Y)\n",
    "        \n",
    "    \n",
    "X,Xq,Y = vectorize(train,word_idx,story_max,question_max)\n",
    "X_test,Xq_test,Y_test = vectorize(test,word_idx,story_max,question_max)\n",
    "X_val,Xq_val,Y_val = vectorize(validation,word_idx,story_max,question_max)"
   ]
  },
  {
   "cell_type": "code",
   "execution_count": 18,
   "metadata": {
    "collapsed": false
   },
   "outputs": [
    {
     "name": "stdout",
     "output_type": "stream",
     "text": [
      "[[ 0  0  0  0  0  0  0  0  0  0  0  0  0  0  0  0  0  0  0  0  0  0  0  0\n",
      "   0  0  0  0  0  0  0  0  0  0  0  0  0  0  0  0  0  0  0  0  0  0  0  0\n",
      "   0  0  0  0  0  0  0  0  0  0  0  0  0  0  0  0  0  0  0  0  0  0  0  0\n",
      "   4 13 11 12 23 22 20 23 21  1  7 26  8 24 23 19  1]\n",
      " [ 0  0  0  0  0  0  0  0  0  0  0  0  0  0  0  0  0  0  0  0  0  0  0  0\n",
      "   0  0  0  0  0  0  0  0  0  0  0  0  0  0  0  0  0  0  0  0  0  0  0  0\n",
      "   0  0  0  0  0  0  0  0  4 13 11 12 23 22 20 23 21  1  7 26  8 24 23 19\n",
      "   1  3 13 11 12 23 15 20 23 21  1  4 17 24 23 10  1]\n",
      " [ 0  0  0  0  0  0  0  0  0  0  0  0  0  0  0  0  0  0  0  0  0  0  0  0\n",
      "   0  0  0  0  0  0  0  0  0  0  0  0  0  0  0  0  0  0  0  0  4 13 11 12\n",
      "  23 22 20 23 21  1  7 26  8 24 23 19  1  3 13 11 12 23 15 20 23 21  1  4\n",
      "  17 24 23 10  1  4 13 12 23 19  1  3 17 24 23 10  1]\n",
      " [ 0  0  0  0  0  0  0  0  0  0  0  0  0  0  0  0  0  0  0  0  0  0  0  0\n",
      "   0  0  0  0  4 13 11 12 23 22 20 23 21  1  7 26  8 24 23 19  1  3 13 11\n",
      "  12 23 15 20 23 21  1  4 17 24 23 10  1  4 13 12 23 19  1  3 17 24 23 10\n",
      "   1  3 13 12 23 21  1  3 13 11 12 23 19 20 23 15  1]\n",
      " [ 0  0  0  0  0  0  0  0  0  0  0  0  4 13 11 12 23 22 20 23 21  1  7 26\n",
      "   8 24 23 19  1  3 13 11 12 23 15 20 23 21  1  4 17 24 23 10  1  4 13 12\n",
      "  23 19  1  3 17 24 23 10  1  3 13 12 23 21  1  3 13 11 12 23 19 20 23 15\n",
      "   1  3 13 11 12 23 10 20 23 21  1  7 17 24 23 21  1]\n",
      " [ 0  0  0  0  0  0  0  0  0  0  0  0  0  0  0  0  0  0  0  0  0  0  0  0\n",
      "   0  0  0  0  0  0  0  0  0  0  0  0  0  0  0  0  0  0  0  0  0  0  0  0\n",
      "   0  0  0  0  0  0  0  0  0  0  0  0  0  0  0  0  0  0  0  0  0  0  0  0\n",
      "   0  0  0  0  0  7 25 24 23 15  1  4 13 12 23 22  1]\n",
      " [ 0  0  0  0  0  0  0  0  0  0  0  0  0  0  0  0  0  0  0  0  0  0  0  0\n",
      "   0  0  0  0  0  0  0  0  0  0  0  0  0  0  0  0  0  0  0  0  0  0  0  0\n",
      "   0  0  0  0  0  0  0  0  0  0  0  0  7 25 24 23 15  1  4 13 12 23 22  1\n",
      "   4 26  8 24 23 19  1  6 13 11 12 23 21 20 23 19  1]\n",
      " [ 0  0  0  0  0  0  0  0  0  0  0  0  0  0  0  0  0  0  0  0  0  0  0  0\n",
      "   0  0  0  0  0  0  0  0  0  0  0  0  0  0  0  0  0  0  0  0  7 25 24 23\n",
      "  15  1  4 13 12 23 22  1  4 26  8 24 23 19  1  6 13 11 12 23 21 20 23 19\n",
      "   1  4 13 11 12 23 22 20 23  9  1  6 14 24 23  9  1]\n",
      " [ 0  0  0  0  0  0  0  0  0  0  0  0  0  0  0  0  0  0  0  0  0  0  0  0\n",
      "   0  0  0  0  0  0  0  0  7 25 24 23 15  1  4 13 12 23 22  1  4 26  8 24\n",
      "  23 19  1  6 13 11 12 23 21 20 23 19  1  4 13 11 12 23 22 20 23  9  1  6\n",
      "  14 24 23  9  1  4 26 24 23 15  1  4 25 24 23 10  1]\n",
      " [ 0  0  0  0  0  0  0  0  0  0  0  0  0  0  0  0  0  0  0  0  7 25 24 23\n",
      "  15  1  4 13 12 23 22  1  4 26  8 24 23 19  1  6 13 11 12 23 21 20 23 19\n",
      "   1  4 13 11 12 23 22 20 23  9  1  6 14 24 23  9  1  4 26 24 23 15  1  4\n",
      "  25 24 23 10  1  3 13 12 23 10  1  3 25 24 23  9  1]]\n",
      "[[ 5  7 12 23 19  2]\n",
      " [ 5  4 12 23 21  2]\n",
      " [ 5  3 12 23 10  2]\n",
      " [ 5  3 12 23 19  2]\n",
      " [ 5  3 12 23 21  2]\n",
      " [ 5  7 12 23 22  2]\n",
      " [ 5  7 12 23 10  2]\n",
      " [ 5  4 12 23 22  2]\n",
      " [ 5  4 12 23 10  2]\n",
      " [ 5  3 12 23  9  2]]\n",
      "[[ 0.  0.  0.  0.  0.  0.  0.  0.  0.  0.  0.  0.  0.  0.  0.  0.  0.  0.\n",
      "   0.  0.  0.  0.  0.  0.  0.  0.  0.  1.]\n",
      " [ 0.  0.  0.  0.  0.  0.  0.  0.  0.  0.  0.  0.  0.  0.  0.  0.  0.  0.\n",
      "   1.  0.  0.  0.  0.  0.  0.  0.  0.  0.]\n",
      " [ 0.  0.  0.  0.  0.  0.  0.  0.  0.  0.  0.  0.  0.  0.  0.  0.  0.  0.\n",
      "   0.  0.  0.  0.  0.  0.  0.  0.  0.  1.]\n",
      " [ 0.  0.  0.  0.  0.  0.  0.  0.  0.  0.  0.  0.  0.  0.  0.  0.  1.  0.\n",
      "   0.  0.  0.  0.  0.  0.  0.  0.  0.  0.]\n",
      " [ 0.  0.  0.  0.  0.  0.  0.  0.  0.  0.  0.  0.  0.  0.  0.  0.  1.  0.\n",
      "   0.  0.  0.  0.  0.  0.  0.  0.  0.  0.]\n",
      " [ 0.  0.  0.  0.  0.  0.  0.  0.  0.  0.  0.  0.  0.  0.  0.  0.  0.  0.\n",
      "   1.  0.  0.  0.  0.  0.  0.  0.  0.  0.]\n",
      " [ 0.  0.  0.  0.  0.  0.  0.  0.  0.  0.  0.  0.  0.  0.  0.  0.  0.  0.\n",
      "   1.  0.  0.  0.  0.  0.  0.  0.  0.  0.]\n",
      " [ 0.  0.  0.  0.  0.  0.  0.  0.  0.  0.  0.  0.  0.  0.  0.  0.  1.  0.\n",
      "   0.  0.  0.  0.  0.  0.  0.  0.  0.  0.]\n",
      " [ 0.  0.  0.  0.  0.  0.  0.  0.  0.  0.  0.  0.  0.  0.  0.  0.  0.  0.\n",
      "   0.  0.  0.  0.  0.  0.  0.  0.  0.  1.]\n",
      " [ 0.  0.  0.  0.  0.  0.  0.  0.  0.  0.  0.  0.  0.  0.  0.  0.  0.  0.\n",
      "   0.  0.  0.  0.  0.  0.  0.  0.  0.  1.]]\n"
     ]
    }
   ],
   "source": [
    "print X[0:10]\n",
    "print Xq[0:10]\n",
    "print Y[0:10]"
   ]
  },
  {
   "cell_type": "markdown",
   "metadata": {},
   "source": [
    "# Modèle\n",
    "\n",
    "Ensuite nous crééons notre modèle keras, nous avions choisi donc de faire un modèle pour les story et pour les questions afin de pouvoir raisonner sur chacun d'eux différement puis de les combiner en un modèle, ainsi nous avons un seul modèle mais qui traite différement les story des questions. On a un LSTM dans le modèle des questions car il faut raisonner d'abord sur les questions seules puis les histoires avec les questions (raisonner sur les histoires seules ne veut pas dire grand chose du point de vue d'un raisonnement)\n",
    "\n",
    "Schema modèle:\n",
    "\n",
    "                    question_model                              story_model\n",
    "                         |                                           |\n",
    "                      Embedding                                  Embedding\n",
    "                          |                                          |\n",
    "                                                                    /\n",
    "                        LSTM                                       /\n",
    "                          |                                       /\n",
    "                        RepeatVector                            /\n",
    "                                    \\                          /\n",
    "                                      \\_______________________/\n",
    "                                                   |\n",
    "                                                   |\n",
    "                                              Merge(mode=concat)\n",
    "                                                   |\n",
    "                                                 LSTM\n",
    "                                                   |\n",
    "                                                 SoftMax\n",
    "\n"
   ]
  },
  {
   "cell_type": "code",
   "execution_count": 19,
   "metadata": {
    "collapsed": true
   },
   "outputs": [],
   "source": [
    "import matplotlib.pyplot as plt\n",
    "%matplotlib inline\n",
    "\n",
    "def plotLearningCurves_acc(history_model,save=''):\n",
    "    plt.plot(history_model.history['acc'])\n",
    "    plt.plot(history_model.history['val_acc'])\n",
    "    plt.title('Precision du modele')\n",
    "    plt.ylabel('Precision')\n",
    "    plt.xlabel('epoch')\n",
    "    plt.legend(['train', 'val'], loc='upper left')\n",
    "    if save:\n",
    "        plt.savefig(save,bbox_inches='tight')\n",
    "    plt.show()\n",
    "    \n",
    "def plotLearningCurves_loss(history_model,save=''):\n",
    "    plt.plot(history_model.history['loss'])\n",
    "    plt.plot(history_model.history['val_loss'])\n",
    "    plt.title('Perte sur le modele')\n",
    "    plt.ylabel('Perte')\n",
    "    plt.xlabel('epoch')\n",
    "    plt.legend(['train', 'val'], loc='upper left')\n",
    "    if save:\n",
    "        plt.savefig(save,bbox_inches='tight')\n",
    "    plt.show()"
   ]
  },
  {
   "cell_type": "code",
   "execution_count": 20,
   "metadata": {
    "collapsed": false,
    "scrolled": true
   },
   "outputs": [
    {
     "name": "stdout",
     "output_type": "stream",
     "text": [
      "Train on 1000 samples, validate on 1000 samples\n",
      "Epoch 1/25\n",
      "1000/1000 [==============================] - 13s - loss: 1.7120 - acc: 0.4060 - val_loss: 1.0394 - val_acc: 0.4450\n",
      "Epoch 2/25\n",
      "1000/1000 [==============================] - 12s - loss: 1.0019 - acc: 0.4520 - val_loss: 1.0256 - val_acc: 0.4450\n",
      "Epoch 3/25\n",
      "1000/1000 [==============================] - 13s - loss: 1.0068 - acc: 0.4500 - val_loss: 1.0191 - val_acc: 0.4450\n",
      "Epoch 4/25\n",
      "1000/1000 [==============================] - 13s - loss: 0.9927 - acc: 0.4360 - val_loss: 1.0306 - val_acc: 0.4020\n",
      "Epoch 5/25\n",
      "1000/1000 [==============================] - 13s - loss: 0.9832 - acc: 0.4530 - val_loss: 1.0357 - val_acc: 0.4450\n",
      "Epoch 6/25\n",
      "1000/1000 [==============================] - 13s - loss: 1.0065 - acc: 0.4420 - val_loss: 1.0150 - val_acc: 0.4450\n",
      "Epoch 7/25\n",
      "1000/1000 [==============================] - 13s - loss: 0.9974 - acc: 0.4420 - val_loss: 1.0204 - val_acc: 0.4020\n",
      "Epoch 8/25\n",
      "1000/1000 [==============================] - 12s - loss: 0.9941 - acc: 0.4460 - val_loss: 1.0322 - val_acc: 0.4020\n",
      "Epoch 9/25\n",
      "1000/1000 [==============================] - 13s - loss: 0.9948 - acc: 0.4300 - val_loss: 1.0304 - val_acc: 0.4020\n",
      "Epoch 10/25\n",
      "1000/1000 [==============================] - 13s - loss: 0.9873 - acc: 0.4220 - val_loss: 1.0234 - val_acc: 0.4450\n",
      "Epoch 11/25\n",
      "1000/1000 [==============================] - 13s - loss: 0.9829 - acc: 0.4660 - val_loss: 1.0199 - val_acc: 0.4480\n",
      "Epoch 12/25\n",
      "1000/1000 [==============================] - 13s - loss: 0.9924 - acc: 0.4470 - val_loss: 1.0283 - val_acc: 0.4020\n",
      "Epoch 13/25\n",
      "1000/1000 [==============================] - 13s - loss: 0.9950 - acc: 0.4430 - val_loss: 1.0340 - val_acc: 0.4020\n",
      "Epoch 14/25\n",
      "1000/1000 [==============================] - 12s - loss: 0.9898 - acc: 0.4420 - val_loss: 1.0217 - val_acc: 0.4020\n",
      "Epoch 15/25\n",
      "1000/1000 [==============================] - 13s - loss: 0.9780 - acc: 0.4760 - val_loss: 1.0227 - val_acc: 0.4450\n",
      "Epoch 16/25\n",
      "1000/1000 [==============================] - 13s - loss: 0.9873 - acc: 0.4480 - val_loss: 1.0238 - val_acc: 0.4450\n",
      "Epoch 17/25\n",
      "1000/1000 [==============================] - 13s - loss: 0.9837 - acc: 0.4660 - val_loss: 1.0148 - val_acc: 0.4450\n",
      "Epoch 18/25\n",
      "1000/1000 [==============================] - 13s - loss: 0.9868 - acc: 0.4530 - val_loss: 1.0267 - val_acc: 0.4450\n",
      "Epoch 19/25\n",
      "1000/1000 [==============================] - 13s - loss: 0.9912 - acc: 0.4450 - val_loss: 1.0685 - val_acc: 0.4450\n",
      "Epoch 20/25\n",
      "1000/1000 [==============================] - 13s - loss: 0.9862 - acc: 0.4440 - val_loss: 1.0158 - val_acc: 0.4450\n",
      "Epoch 21/25\n",
      "1000/1000 [==============================] - 13s - loss: 0.9978 - acc: 0.4330 - val_loss: 1.0154 - val_acc: 0.4450\n",
      "Epoch 22/25\n",
      "1000/1000 [==============================] - 13s - loss: 0.9894 - acc: 0.4150 - val_loss: 1.0332 - val_acc: 0.4020\n",
      "Epoch 23/25\n",
      "1000/1000 [==============================] - 12s - loss: 0.9849 - acc: 0.4760 - val_loss: 1.0184 - val_acc: 0.4450\n",
      "Epoch 24/25\n",
      "1000/1000 [==============================] - 12s - loss: 0.9935 - acc: 0.4330 - val_loss: 1.0216 - val_acc: 0.4450\n",
      "Epoch 25/25\n",
      "1000/1000 [==============================] - 12s - loss: 0.9805 - acc: 0.4400 - val_loss: 1.0230 - val_acc: 0.4450\n"
     ]
    }
   ],
   "source": [
    "#Model\n",
    "\n",
    "from keras.layers.embeddings import Embedding\n",
    "from keras.layers import Dense, Merge,RepeatVector,Activation\n",
    "from keras.layers.recurrent import LSTM\n",
    "from keras.models import Sequential\n",
    "from keras.optimizers import RMSprop,Adam\n",
    "\n",
    "\n",
    "embed_size = 50\n",
    "batch_size=64\n",
    "epochs=25\n",
    "\n",
    "story_model = Sequential()\n",
    "story_model.add(Embedding(vocab_size,embed_size,input_length=story_max))\n",
    "\n",
    "question_model = Sequential()\n",
    "question_model.add(Embedding(vocab_size,embed_size,input_length=question_max))\n",
    "question_model.add(LSTM(embed_size))\n",
    "question_model.add(RepeatVector(story_max)) #permet d'ajuster la taille du modèle afin de préparer un merge\n",
    "\n",
    "\n",
    "model = Sequential()\n",
    "model.add(Merge([story_model, question_model], mode='concat'))\n",
    "model.add(LSTM(embed_size))\n",
    "model.add(Dense(vocab_size))\n",
    "model.add(Activation(\"softmax\"))\n",
    "\n",
    "model.compile(optimizer=Adam(lr=0.01),loss='categorical_crossentropy',metrics=['accuracy'])\n",
    "\n",
    "history = model.fit([X, Xq], Y, batch_size=batch_size, nb_epoch=epochs,validation_data=([X_val,Xq_val],Y_val))\n"
   ]
  },
  {
   "cell_type": "code",
   "execution_count": 21,
   "metadata": {
    "collapsed": false
   },
   "outputs": [
    {
     "name": "stdout",
     "output_type": "stream",
     "text": [
      "1000/1000 [==============================] - 2s     \n",
      "\n",
      "Perte = 1.019\n",
      "Précision = 47%\n"
     ]
    },
    {
     "data": {
      "image/png": "[encoded data removed]",
      "text/plain": [
       "<matplotlib.figure.Figure at 0x7fa7ced09890>"
      ]
     },
     "metadata": {},
     "output_type": "display_data"
    },
    {
     "data": {
      "image/png": "[encoded data removed]",
      "text/plain": [
       "<matplotlib.figure.Figure at 0x7fa7ced09d50>"
      ]
     },
     "metadata": {},
     "output_type": "display_data"
    }
   ],
   "source": [
    "#Calcul de précision sur l'ensemble de test\n",
    "\n",
    "loss,acc = model.evaluate([X_test,Xq_test],Y_test, batch_size=batch_size)\n",
    "print \"\\nPerte = {:.3f}\".format(loss)\n",
    "print \"Précision = {:.0f}%\".format(acc*100)\n",
    "\n",
    "plotLearningCurves_acc(history)\n",
    "\n",
    "plotLearningCurves_loss(history)"
   ]
  },
  {
   "cell_type": "code",
   "execution_count": 51,
   "metadata": {
    "collapsed": false
   },
   "outputs": [
    {
     "name": "stdout",
     "output_type": "stream",
     "text": [
      "[(987, 134), (191, 262), (909, 556), (664, 685), (164, 262)]\n"
     ]
    }
   ],
   "source": [
    "#finir ce bout de code\n",
    "\n",
    "import itertools\n",
    "\n",
    "def generate_randInt(maxV,n):\n",
    "    rand = (np.random.randint(0,maxV) for _ in iter(int,1))\n",
    "    \n",
    "    return list(itertools.islice(rand,n))\n",
    "\n",
    "nbSamples = 5\n",
    "test_samples = [(i,j) for i,j in zip(generate_randInt(len(train),nbSamples),generate_randInt(len(test),nbSamples))]\n",
    "    \n",
    "print test_samples"
   ]
  },
  {
   "cell_type": "code",
   "execution_count": 63,
   "metadata": {
    "collapsed": false
   },
   "outputs": [
    {
     "name": "stdout",
     "output_type": "stream",
     "text": [
      "[u'Fred', u'travelled', u'to', u'the', u'office', u'.', u'Bill', u'moved', u'to', u'the', u'kitchen', u'.']\n",
      "[ 0  0  0  0  0  0  0  0  0  0  0  0  0  0  0  0  0  0  0  0  0  0  0  0  0\n",
      "  0  0  0  0  0  0  0  0  0  0  0  0  0  0  0  0  0  0  0  0  0  0  0  0  0\n",
      "  0  0  0  0  0  0  0  0  0  0  0  0  0  0  0  0  0  0  0  0  0  0  4 13 11\n",
      " 12 23 22 20 23 21  1  7 26  8 24 23 19  1]\n",
      "[4, 25, 24, 23, 19, 1, 3, 17, 24, 23, 15, 1]\n"
     ]
    }
   ],
   "source": [
    "storyget = lambda (s,_,_d) : s \n",
    "\n",
    "print storyget(test[0])\n",
    "\n",
    "print X[0]\n",
    "\n",
    "print map(lambda w : word_idx[w],storyget(test[0]))"
   ]
  }
 ],
 "metadata": {
  "kernelspec": {
   "display_name": "Python 2",
   "language": "python",
   "name": "python2"
  },
  "language_info": {
   "codemirror_mode": {
    "name": "ipython",
    "version": 2
   },
   "file_extension": ".py",
   "mimetype": "text/x-python",
   "name": "python",
   "nbconvert_exporter": "python",
   "pygments_lexer": "ipython2",
   "version": "2.7.12"
  }
 },
 "nbformat": 4,
 "nbformat_minor": 2
}
