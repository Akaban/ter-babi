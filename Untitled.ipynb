{
 "cells": [
  {
   "cell_type": "code",
   "execution_count": 3,
   "metadata": {
    "collapsed": false
   },
   "outputs": [],
   "source": [
    "import re\n",
    "\n",
    "def tokenize(sent):\n",
    "    return [x.strip() for x in re.split('(\\W+)?', sent) if x.strip()]\n",
    "\n",
    "def parserBabi(data):\n",
    "    ret=list()\n",
    "    story=list()\n",
    "    \n",
    "    for phrase in data:\n",
    "        phrase = phrase.decode('utf-8').strip()\n",
    "        id_phrase,phrase = int(phrase[0]),phrase[1:].split()\n",
    "        \n",
    "        if id_phrase == 1: #Nouvelle story\n",
    "            story=list()\n",
    "            \n",
    "        if '\\t' in phrase: #Si tabulation alors il s'agit de la question ainsi que de la réponse\n",
    "            q, a, justif = phrase.split('\\t')\n",
    "            q = tokenize(q) #Renvoie l'ensemble des mots de q y compris la poncutation sous forme de liste\n",
    "            \n",
    "            #la conditionelle permet de ne pas inclure les séparateurs\n",
    "            data_story = [x for x in story if x] #L'ensemble des élements qui nous permettra de raisonner sur le texte\n",
    "                                             \n",
    "            ret.append((data_story,q,a)) #Nos données d'apprentissages\n",
    "            story.append('')\n",
    "        \n",
    "        else: \n",
    "            #Alors la phrase est tout simplement un des élements de raisonnement et non une question\n",
    "            story.append(tokenize(line))\n",
    "            \n",
    "    return ret"
   ]
  }
 ],
 "metadata": {
  "kernelspec": {
   "display_name": "Python 2",
   "language": "python2",
   "name": "python2"
  },
  "language_info": {
   "codemirror_mode": {
    "name": "ipython",
    "version": 2
   },
   "file_extension": ".py",
   "mimetype": "text/x-python",
   "name": "python",
   "nbconvert_exporter": "python",
   "pygments_lexer": "ipython2",
   "version": "2.7.13"
  }
 },
 "nbformat": 4,
 "nbformat_minor": 2
}
